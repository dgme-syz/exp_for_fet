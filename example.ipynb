{
 "cells": [
  {
   "cell_type": "code",
   "execution_count": 1,
   "metadata": {},
   "outputs": [
    {
     "name": "stderr",
     "output_type": "stream",
     "text": [
      "d:\\app\\anaconda\\envs\\webui\\lib\\site-packages\\tqdm\\auto.py:21: TqdmWarning: IProgress not found. Please update jupyter and ipywidgets. See https://ipywidgets.readthedocs.io/en/stable/user_install.html\n",
      "  from .autonotebook import tqdm as notebook_tqdm\n"
     ]
    }
   ],
   "source": [
    "from datasets import load_dataset"
   ]
  },
  {
   "cell_type": "code",
   "execution_count": 5,
   "metadata": {},
   "outputs": [],
   "source": [
    "import random"
   ]
  },
  {
   "cell_type": "code",
   "execution_count": 12,
   "metadata": {},
   "outputs": [],
   "source": [
    "a = [1, 2, 3, 4, 100]\n",
    "# shuffle but not in place\n",
    "b = random.sample(a, len(a))"
   ]
  },
  {
   "cell_type": "code",
   "execution_count": 13,
   "metadata": {},
   "outputs": [
    {
     "data": {
      "text/plain": [
       "[4, 1, 3, 100, 2]"
      ]
     },
     "execution_count": 13,
     "metadata": {},
     "output_type": "execute_result"
    }
   ],
   "source": [
    "b"
   ]
  },
  {
   "cell_type": "code",
   "execution_count": null,
   "metadata": {},
   "outputs": [],
   "source": [
    "import torch\n",
    "from torchmetrics.functional import stat_scores\n",
    "from torchmetrics import Accuracy\n",
    "\n",
    "# 假设 y_true 和 y_pred 是 PyTorch tensor 格式的标签\n",
    "y_true = torch.tensor([[1, 0, 1], [0, 1, 1], [1, 1, 0]])\n",
    "y_pred = torch.tensor([[1, 1, 0], [0, 1, 1], [1, 1, 0]])\n",
    "\n",
    "# 使用 TorchMetrics 计算多标签F1分数\n",
    "acc = Accuracy(num_classes=3, task=\"binary\", num_labels=3, average=\"none\")\n",
    "f1 = acc(y_pred, y_true)\n",
    "print(f\"F1 Score: {f1}\")"
   ]
  },
  {
   "cell_type": "code",
   "execution_count": 2,
   "metadata": {},
   "outputs": [
    {
     "name": "stderr",
     "output_type": "stream",
     "text": [
      "Generating train split: 1505765 examples [00:00, 2467139.82 examples/s]\n",
      "Generating test split: 434 examples [00:00, 216525.27 examples/s]\n"
     ]
    }
   ],
   "source": [
    "from datasets import load_dataset\n",
    "\n",
    "ds = load_dataset(\"E:/pretrained_models/datasets/figer/figer/1.0.0\")"
   ]
  },
  {
   "cell_type": "code",
   "execution_count": 4,
   "metadata": {},
   "outputs": [
    {
     "name": "stderr",
     "output_type": "stream",
     "text": [
      "Creating parquet from Arrow format: 100%|██████████| 753/753 [00:02<00:00, 327.07ba/s]\n",
      "Creating parquet from Arrow format: 100%|██████████| 753/753 [00:02<00:00, 325.76ba/s]\n",
      "Uploading the dataset shards: 100%|██████████| 2/2 [01:31<00:00, 45.94s/it]\n",
      "Creating parquet from Arrow format: 100%|██████████| 1/1 [00:00<00:00, 652.61ba/s]\n",
      "Uploading the dataset shards: 100%|██████████| 1/1 [00:00<00:00,  1.02it/s]\n"
     ]
    },
    {
     "data": {
      "text/plain": [
       "CommitInfo(commit_url='https://huggingface.co/datasets/DGME/figer/commit/30d30988600b1aafe01208d48936680d1cce0b6a', commit_message='Upload dataset', commit_description='', oid='30d30988600b1aafe01208d48936680d1cce0b6a', pr_url=None, pr_revision=None, pr_num=None)"
      ]
     },
     "execution_count": 4,
     "metadata": {},
     "output_type": "execute_result"
    }
   ],
   "source": [
    "ds.push_to_hub(\"DGME/figer\", token=\"\")"
   ]
  },
  {
   "cell_type": "code",
   "execution_count": 14,
   "metadata": {},
   "outputs": [
    {
     "name": "stdout",
     "output_type": "stream",
     "text": [
      "{'start': [8, 13, 19], 'end': [11, 17, 23], 'labels': [['/train'], ['/organization', '/organization/company'], ['/rail/railway', '/organization', '/organization/company', '/rail', '/location']]}\n"
     ]
    }
   ],
   "source": [
    "print(ds[\"train\"][3][\"mentions\"])"
   ]
  },
  {
   "cell_type": "code",
   "execution_count": 15,
   "metadata": {},
   "outputs": [
    {
     "name": "stdout",
     "output_type": "stream",
     "text": [
      "[['It', 'includes', 'a', 'cover', 'of', '\"', 'Low', 'Rider', '\"', 'by', 'War', 'and', 'a', 'reworking', 'of', 'Muddy', 'Waters', \"'\", '\"', 'I', 'Just', 'Wanna', 'Make', 'Love', 'To', 'You', '\"', 'as', '\"', 'I', 'Just', 'Wanna', 'Get', 'High', 'with', 'You', '\"', '.'], ['He', 'was', 'hospitalized', 'for', 'four', 'days', 'at', 'the', 'Mayo', 'Clinic', 'in', '1964', ',', 'and', 'for', 'three', 'weeks', 'in', '1966', '.']]\n"
     ]
    }
   ],
   "source": [
    "print(ds[\"train\"][:2][\"tokens\"])"
   ]
  },
  {
   "cell_type": "code",
   "execution_count": null,
   "metadata": {},
   "outputs": [],
   "source": []
  }
 ],
 "metadata": {
  "kernelspec": {
   "display_name": "webui",
   "language": "python",
   "name": "python3"
  },
  "language_info": {
   "codemirror_mode": {
    "name": "ipython",
    "version": 3
   },
   "file_extension": ".py",
   "mimetype": "text/x-python",
   "name": "python",
   "nbconvert_exporter": "python",
   "pygments_lexer": "ipython3",
   "version": "3.10.6"
  }
 },
 "nbformat": 4,
 "nbformat_minor": 2
}
